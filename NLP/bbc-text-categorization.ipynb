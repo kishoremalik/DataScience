{
 "cells": [
  {
   "cell_type": "code",
   "execution_count": 1,
   "metadata": {
    "_uuid": "6e33d72836cf1df501fe5c7d4df38f8131b72b80",
    "colab": {
     "autoexec": {
      "startup": false,
      "wait_interval": 0
     },
     "base_uri": "https://localhost:8080/",
     "height": 35
    },
    "colab_type": "code",
    "executionInfo": {
     "elapsed": 2118,
     "status": "ok",
     "timestamp": 1529968185252,
     "user": {
      "displayName": "Yufeng Guo",
      "photoUrl": "//lh3.googleusercontent.com/-yh4ovY5HFlY/AAAAAAAAAAI/AAAAAAAAACk/ySd8O1k5o5s/s50-c-k-no/photo.jpg",
      "userId": "112030861868146149303"
     },
     "user_tz": 240
    },
    "id": "ZCXNyqFq7vY8",
    "outputId": "ec7dfb3c-88e1-478b-ec4a-08a667fa5698"
   },
   "outputs": [
    {
     "name": "stdout",
     "output_type": "stream",
     "text": [
      "You have TensorFlow version 2.0.0-rc0\n"
     ]
    }
   ],
   "source": [
    "\n",
    "# This Python 3 environment comes with many helpful analytics libraries installed\n",
    "# It is defined by the kaggle/python docker image: https://github.com/kaggle/docker-python\n",
    "# For example, here's several helpful packages to load in \n",
    "\n",
    "import numpy as np # linear algebra\n",
    "import pandas as pd # data processing, CSV file I/O (e.g. pd.read_csv)\n",
    "\n",
    "# Input data files are available in the \"../input/\" directory.\n",
    "# For example, running this (by clicking run or pressing Shift+Enter) will list the files in the input directory\n",
    "\n",
    "import os\n",
    "# print(os.listdir(\"../input\"))\n",
    "\n",
    "# Any results you write to the current directory are saved as output.\n",
    "import itertools\n",
    "import os\n",
    "\n",
    "%matplotlib inline\n",
    "import matplotlib.pyplot as plt\n",
    "import numpy as np\n",
    "import pandas as pd\n",
    "import tensorflow as tf\n",
    "\n",
    "from sklearn.preprocessing import LabelBinarizer, LabelEncoder\n",
    "from sklearn.metrics import confusion_matrix\n",
    "\n",
    "from tensorflow import keras\n",
    "layers = keras.layers\n",
    "models = keras.models\n",
    "\n",
    "\n",
    "# This code was tested with TensorFlow v1.8\n",
    "print(\"You have TensorFlow version\", tf.__version__)"
   ]
  },
  {
   "cell_type": "markdown",
   "metadata": {
    "_uuid": "1a068e9906a1b8c0fc8fc3145b064467135a212f",
    "colab_type": "text",
    "id": "m6si-xluXrW6"
   },
   "source": [
    "## Get the data\n",
    "The data has been exported from BigQuery and is stored on GCS, and can be access directly via \n",
    "\n",
    "  `!gsutil cp gs://dataset-uploader/bbc/bbc-text.csv .`\n",
    "\n",
    "It can also be accessed via https://storage.googleapis.com/dataset-uploader/bbc/bbc-text.csv "
   ]
  },
  {
   "cell_type": "code",
   "execution_count": 2,
   "metadata": {
    "_uuid": "3def70f0527177e1e6fdfd024b79804402e9c088",
    "colab": {
     "autoexec": {
      "startup": false,
      "wait_interval": 0
     },
     "base_uri": "https://localhost:8080/",
     "height": 37
    },
    "colab_type": "code",
    "executionInfo": {
     "elapsed": 891,
     "status": "ok",
     "timestamp": 1529968248939,
     "user": {
      "displayName": "Yufeng Guo",
      "photoUrl": "//lh3.googleusercontent.com/-yh4ovY5HFlY/AAAAAAAAAAI/AAAAAAAAACk/ySd8O1k5o5s/s50-c-k-no/photo.jpg",
      "userId": "112030861868146149303"
     },
     "user_tz": 240
    },
    "id": "PBJ8CTYL7vZD",
    "outputId": "f0cb9078-369b-4f39-d1b5-a2bb4936a392"
   },
   "outputs": [],
   "source": [
    "data = pd.read_csv(\"D:/Data_set/dt/bbc-text.csv\")"
   ]
  },
  {
   "cell_type": "code",
   "execution_count": 3,
   "metadata": {
    "_uuid": "6e09deecd8c20bb3bd2bb792b0622f6d128410d0",
    "colab": {
     "autoexec": {
      "startup": false,
      "wait_interval": 0
     },
     "base_uri": "https://localhost:8080/",
     "height": 204
    },
    "colab_type": "code",
    "executionInfo": {
     "elapsed": 253,
     "status": "ok",
     "timestamp": 1529968252342,
     "user": {
      "displayName": "Yufeng Guo",
      "photoUrl": "//lh3.googleusercontent.com/-yh4ovY5HFlY/AAAAAAAAAAI/AAAAAAAAACk/ySd8O1k5o5s/s50-c-k-no/photo.jpg",
      "userId": "112030861868146149303"
     },
     "user_tz": 240
    },
    "id": "CBtXsyqr7vZG",
    "outputId": "91407087-b090-414d-8c18-acae82d9a26e"
   },
   "outputs": [
    {
     "data": {
      "text/html": [
       "<div>\n",
       "<style scoped>\n",
       "    .dataframe tbody tr th:only-of-type {\n",
       "        vertical-align: middle;\n",
       "    }\n",
       "\n",
       "    .dataframe tbody tr th {\n",
       "        vertical-align: top;\n",
       "    }\n",
       "\n",
       "    .dataframe thead th {\n",
       "        text-align: right;\n",
       "    }\n",
       "</style>\n",
       "<table border=\"1\" class=\"dataframe\">\n",
       "  <thead>\n",
       "    <tr style=\"text-align: right;\">\n",
       "      <th></th>\n",
       "      <th>category</th>\n",
       "      <th>text</th>\n",
       "    </tr>\n",
       "  </thead>\n",
       "  <tbody>\n",
       "    <tr>\n",
       "      <td>0</td>\n",
       "      <td>tech</td>\n",
       "      <td>tv future in the hands of viewers with home th...</td>\n",
       "    </tr>\n",
       "    <tr>\n",
       "      <td>1</td>\n",
       "      <td>business</td>\n",
       "      <td>worldcom boss  left books alone  former worldc...</td>\n",
       "    </tr>\n",
       "    <tr>\n",
       "      <td>2</td>\n",
       "      <td>sport</td>\n",
       "      <td>tigers wary of farrell  gamble  leicester say ...</td>\n",
       "    </tr>\n",
       "    <tr>\n",
       "      <td>3</td>\n",
       "      <td>sport</td>\n",
       "      <td>yeading face newcastle in fa cup premiership s...</td>\n",
       "    </tr>\n",
       "    <tr>\n",
       "      <td>4</td>\n",
       "      <td>entertainment</td>\n",
       "      <td>ocean s twelve raids box office ocean s twelve...</td>\n",
       "    </tr>\n",
       "  </tbody>\n",
       "</table>\n",
       "</div>"
      ],
      "text/plain": [
       "        category                                               text\n",
       "0           tech  tv future in the hands of viewers with home th...\n",
       "1       business  worldcom boss  left books alone  former worldc...\n",
       "2          sport  tigers wary of farrell  gamble  leicester say ...\n",
       "3          sport  yeading face newcastle in fa cup premiership s...\n",
       "4  entertainment  ocean s twelve raids box office ocean s twelve..."
      ]
     },
     "execution_count": 3,
     "metadata": {},
     "output_type": "execute_result"
    }
   ],
   "source": [
    "data.head()"
   ]
  },
  {
   "cell_type": "code",
   "execution_count": 4,
   "metadata": {
    "_uuid": "483f40036cdc496a43796b88046874c12c19cb76",
    "colab": {
     "autoexec": {
      "startup": false,
      "wait_interval": 0
     },
     "base_uri": "https://localhost:8080/",
     "height": 119
    },
    "colab_type": "code",
    "executionInfo": {
     "elapsed": 239,
     "status": "ok",
     "timestamp": 1529968259350,
     "user": {
      "displayName": "Yufeng Guo",
      "photoUrl": "//lh3.googleusercontent.com/-yh4ovY5HFlY/AAAAAAAAAAI/AAAAAAAAACk/ySd8O1k5o5s/s50-c-k-no/photo.jpg",
      "userId": "112030861868146149303"
     },
     "user_tz": 240
    },
    "id": "CUw2hqtv7vZK",
    "outputId": "609cf652-d7d3-4d3c-bd0b-3457a1d891c7"
   },
   "outputs": [
    {
     "data": {
      "text/plain": [
       "sport            511\n",
       "business         510\n",
       "politics         417\n",
       "tech             401\n",
       "entertainment    386\n",
       "Name: category, dtype: int64"
      ]
     },
     "execution_count": 4,
     "metadata": {},
     "output_type": "execute_result"
    }
   ],
   "source": [
    "data['category'].value_counts()"
   ]
  },
  {
   "cell_type": "code",
   "execution_count": 7,
   "metadata": {},
   "outputs": [
    {
     "data": {
      "text/plain": [
       "array(['tech', 'business', 'sport', 'entertainment', 'politics'],\n",
       "      dtype=object)"
      ]
     },
     "execution_count": 7,
     "metadata": {},
     "output_type": "execute_result"
    }
   ],
   "source": [
    "data['category'].unique()"
   ]
  },
  {
   "cell_type": "code",
   "execution_count": 5,
   "metadata": {
    "_uuid": "bda23ce14c9e6cc07d459ce4f3295dcacfeb88a9",
    "colab": {
     "autoexec": {
      "startup": false,
      "wait_interval": 0
     },
     "base_uri": "https://localhost:8080/",
     "height": 51
    },
    "colab_type": "code",
    "executionInfo": {
     "elapsed": 432,
     "status": "ok",
     "timestamp": 1529968288460,
     "user": {
      "displayName": "Yufeng Guo",
      "photoUrl": "//lh3.googleusercontent.com/-yh4ovY5HFlY/AAAAAAAAAAI/AAAAAAAAACk/ySd8O1k5o5s/s50-c-k-no/photo.jpg",
      "userId": "112030861868146149303"
     },
     "user_tz": 240
    },
    "id": "Ilatvz9j7vZN",
    "outputId": "44f66230-f029-4008-c1fb-c9c705a6e0ae"
   },
   "outputs": [
    {
     "name": "stdout",
     "output_type": "stream",
     "text": [
      "Train size: 1780\n",
      "Test size: 445\n"
     ]
    }
   ],
   "source": [
    "train_size = int(len(data) * .8)\n",
    "print (\"Train size: %d\" % train_size)\n",
    "print (\"Test size: %d\" % (len(data) - train_size))"
   ]
  },
  {
   "cell_type": "code",
   "execution_count": null,
   "metadata": {
    "_uuid": "6073c1614a697e0bc09c64e8140228d8e9ccd07c",
    "colab": {
     "autoexec": {
      "startup": false,
      "wait_interval": 0
     },
     "base_uri": "https://localhost:8080/",
     "height": 37
    },
    "colab_type": "code",
    "executionInfo": {
     "elapsed": 261,
     "status": "ok",
     "timestamp": 1529968332817,
     "user": {
      "displayName": "Yufeng Guo",
      "photoUrl": "//lh3.googleusercontent.com/-yh4ovY5HFlY/AAAAAAAAAAI/AAAAAAAAACk/ySd8O1k5o5s/s50-c-k-no/photo.jpg",
      "userId": "112030861868146149303"
     },
     "user_tz": 240
    },
    "id": "_WiJBv3E7vZQ",
    "outputId": "0b13b71e-f63b-4211-d5c4-d8b99a4b0d01"
   },
   "outputs": [],
   "source": []
  },
  {
   "cell_type": "markdown",
   "metadata": {
    "_uuid": "58e07108e5cb00de0e0a274b2225aa8834c43393",
    "colab_type": "text",
    "id": "5u6HXfm_ciaR"
   },
   "source": [
    "## Data preparation\n",
    "There's some work to be done in order for our data to be ready for training.\n",
    "1. First we'll split the data into training and test sets.\n",
    "1. Then we'll tokenize the words (text), and then convert them to a numbered index. \n",
    "1. Next we'll do the same for the labels (categories), by using the `LabelEncoder` utility.\n",
    "1. Finally, we'll convert the labels to a one-hot representation."
   ]
  },
  {
   "cell_type": "code",
   "execution_count": 8,
   "metadata": {
    "_uuid": "da89fd94cb271dbe37b2deaf020a1992b15173f3",
    "colab": {
     "autoexec": {
      "startup": false,
      "wait_interval": 0
     },
     "base_uri": "https://localhost:8080/",
     "height": 37
    },
    "colab_type": "code",
    "executionInfo": {
     "elapsed": 224,
     "status": "ok",
     "timestamp": 1529968421345,
     "user": {
      "displayName": "Yufeng Guo",
      "photoUrl": "//lh3.googleusercontent.com/-yh4ovY5HFlY/AAAAAAAAAAI/AAAAAAAAACk/ySd8O1k5o5s/s50-c-k-no/photo.jpg",
      "userId": "112030861868146149303"
     },
     "user_tz": 240
    },
    "id": "lwVzFlWb7vZb",
    "outputId": "40c75810-86da-4cde-dc41-ee74df6f1057"
   },
   "outputs": [],
   "source": [
    "# Use sklearn utility to convert label strings to numbered index\n",
    "Y = data['category']\n",
    "encoder = LabelEncoder()\n",
    "encoder.fit(Y)\n",
    "Y = encoder.transform(Y)\n",
    "Y = tf.keras.utils.to_categorical(Y,num_classes=5)"
   ]
  },
  {
   "cell_type": "markdown",
   "metadata": {},
   "source": [
    "#  Tokenization for model input"
   ]
  },
  {
   "cell_type": "code",
   "execution_count": 9,
   "metadata": {},
   "outputs": [],
   "source": [
    "max_features=5000 #we set maximum number of words to 5000\n",
    "maxlen=200 #we set maximum sequence length to 400"
   ]
  },
  {
   "cell_type": "code",
   "execution_count": 10,
   "metadata": {},
   "outputs": [],
   "source": [
    "tok = tf.keras.preprocessing.text.Tokenizer(num_words=max_features) #again tokenizer step"
   ]
  },
  {
   "cell_type": "code",
   "execution_count": 11,
   "metadata": {},
   "outputs": [],
   "source": [
    "tok.fit_on_texts(list(data['text'])) #fit to cleaned text"
   ]
  },
  {
   "cell_type": "code",
   "execution_count": 12,
   "metadata": {},
   "outputs": [
    {
     "name": "stdout",
     "output_type": "stream",
     "text": [
      "29726\n"
     ]
    }
   ],
   "source": [
    "print(len(tok.word_index))\n",
    "vocab_size = len(tok.word_index) + 1 "
   ]
  },
  {
   "cell_type": "code",
   "execution_count": 13,
   "metadata": {},
   "outputs": [],
   "source": [
    "train_df = tok.texts_to_sequences(list(data['text'])) #this is how we create sequences\n",
    "train_df = tf.keras.preprocessing.sequence.pad_sequences(train_df, maxlen=maxlen) #let's execute pad step"
   ]
  },
  {
   "cell_type": "code",
   "execution_count": 14,
   "metadata": {},
   "outputs": [],
   "source": [
    "# Train test split\n",
    "from sklearn.model_selection import train_test_split"
   ]
  },
  {
   "cell_type": "code",
   "execution_count": 15,
   "metadata": {},
   "outputs": [],
   "source": [
    "X_train, X_test, y_train, y_test = train_test_split(train_df, Y, test_size=0.1, random_state=42)"
   ]
  },
  {
   "cell_type": "markdown",
   "metadata": {
    "_uuid": "5838e4d6eb5f04b731d73507ad74c424cbc61e89",
    "colab_type": "text",
    "id": "ms0L4rJidWRh"
   },
   "source": [
    "## Train the model\n",
    "\n",
    "Build the model using Keras layers and hyperparameters of your choosing. Then call `model.fit()`"
   ]
  },
  {
   "cell_type": "code",
   "execution_count": 19,
   "metadata": {
    "_uuid": "337b7d1e899297a868bb9b5a1eae4c4fb246c623",
    "colab": {
     "autoexec": {
      "startup": false,
      "wait_interval": 0
     },
     "base_uri": "https://localhost:8080/",
     "height": 37
    },
    "colab_type": "code",
    "executionInfo": {
     "elapsed": 221,
     "status": "ok",
     "timestamp": 1529968784862,
     "user": {
      "displayName": "Yufeng Guo",
      "photoUrl": "//lh3.googleusercontent.com/-yh4ovY5HFlY/AAAAAAAAAAI/AAAAAAAAACk/ySd8O1k5o5s/s50-c-k-no/photo.jpg",
      "userId": "112030861868146149303"
     },
     "user_tz": 240
    },
    "id": "Z3MmdGtx7vZl",
    "outputId": "d6a745be-61fb-46ee-c791-29ca80140bca"
   },
   "outputs": [],
   "source": [
    "embedding_dim = 50 \n",
    "model = tf.keras.models.Sequential([\n",
    "  tf.keras.layers.Embedding(input_dim=vocab_size, \n",
    "                           output_dim=embedding_dim,\n",
    "                           input_length=maxlen), \n",
    "  tf.keras.layers.Flatten(), #flatten layer\n",
    "\n",
    "  tf.keras.layers.Dense(5, activation=tf.nn.softmax)])"
   ]
  },
  {
   "cell_type": "code",
   "execution_count": 20,
   "metadata": {
    "_uuid": "a1bbb4b632904850c9028433065f18825ab35d40",
    "colab": {
     "autoexec": {
      "startup": false,
      "wait_interval": 0
     },
     "base_uri": "https://localhost:8080/",
     "height": 37
    },
    "colab_type": "code",
    "executionInfo": {
     "elapsed": 262,
     "status": "ok",
     "timestamp": 1529968787034,
     "user": {
      "displayName": "Yufeng Guo",
      "photoUrl": "//lh3.googleusercontent.com/-yh4ovY5HFlY/AAAAAAAAAAI/AAAAAAAAACk/ySd8O1k5o5s/s50-c-k-no/photo.jpg",
      "userId": "112030861868146149303"
     },
     "user_tz": 240
    },
    "id": "VT6WEGF-7vZq",
    "outputId": "9af614ad-0dd9-43c3-c3a1-225a7cbab986"
   },
   "outputs": [],
   "source": [
    "model.compile(optimizer='adam',\n",
    "              loss='categorical_crossentropy',\n",
    "              metrics=['accuracy'])"
   ]
  },
  {
   "cell_type": "code",
   "execution_count": 21,
   "metadata": {
    "_uuid": "7e47a98aa3fb3fac7d1a66f226dfdbd73f0200af",
    "colab": {
     "autoexec": {
      "startup": false,
      "wait_interval": 0
     },
     "base_uri": "https://localhost:8080/",
     "height": 122
    },
    "colab_type": "code",
    "executionInfo": {
     "elapsed": 1436,
     "status": "ok",
     "timestamp": 1529968901259,
     "user": {
      "displayName": "Yufeng Guo",
      "photoUrl": "//lh3.googleusercontent.com/-yh4ovY5HFlY/AAAAAAAAAAI/AAAAAAAAACk/ySd8O1k5o5s/s50-c-k-no/photo.jpg",
      "userId": "112030861868146149303"
     },
     "user_tz": 240
    },
    "id": "aZi3ZHVn7vZt",
    "outputId": "2a284ea1-dde6-45a0-842c-823d826a2f81"
   },
   "outputs": [
    {
     "name": "stdout",
     "output_type": "stream",
     "text": [
      "Model: \"sequential_1\"\n",
      "_________________________________________________________________\n",
      "Layer (type)                 Output Shape              Param #   \n",
      "=================================================================\n",
      "embedding_1 (Embedding)      (None, 200, 50)           1486350   \n",
      "_________________________________________________________________\n",
      "flatten_1 (Flatten)          (None, 10000)             0         \n",
      "_________________________________________________________________\n",
      "dense_1 (Dense)              (None, 5)                 50005     \n",
      "=================================================================\n",
      "Total params: 1,536,355\n",
      "Trainable params: 1,536,355\n",
      "Non-trainable params: 0\n",
      "_________________________________________________________________\n"
     ]
    }
   ],
   "source": [
    "model.summary()"
   ]
  },
  {
   "cell_type": "code",
   "execution_count": 22,
   "metadata": {},
   "outputs": [
    {
     "name": "stdout",
     "output_type": "stream",
     "text": [
      "Train on 2002 samples\n",
      "Epoch 1/20\n",
      "WARNING:tensorflow:Entity <function Function._initialize_uninitialized_variables.<locals>.initialize_variables at 0x0000000C88D87B88> could not be transformed and will be executed as-is. Please report this to the AutoGraph team. When filing the bug, set the verbosity to 10 (on Linux, `export AUTOGRAPH_VERBOSITY=10`) and attach the full output. Cause: module 'gast' has no attribute 'Num'\n",
      "WARNING: Entity <function Function._initialize_uninitialized_variables.<locals>.initialize_variables at 0x0000000C88D87B88> could not be transformed and will be executed as-is. Please report this to the AutoGraph team. When filing the bug, set the verbosity to 10 (on Linux, `export AUTOGRAPH_VERBOSITY=10`) and attach the full output. Cause: module 'gast' has no attribute 'Num'\n",
      "2002/2002 [==============================] - 3s 2ms/sample - loss: 1.5372 - accuracy: 0.3941\n",
      "Epoch 2/20\n",
      "2002/2002 [==============================] - 1s 691us/sample - loss: 0.9110 - accuracy: 0.8911\n",
      "Epoch 3/20\n",
      "2002/2002 [==============================] - 1s 689us/sample - loss: 0.2685 - accuracy: 0.9860\n",
      "Epoch 4/20\n",
      "2002/2002 [==============================] - 1s 692us/sample - loss: 0.0883 - accuracy: 0.9980\n",
      "Epoch 5/20\n",
      "2002/2002 [==============================] - 1s 694us/sample - loss: 0.0402 - accuracy: 1.0000\n",
      "Epoch 6/20\n",
      "2002/2002 [==============================] - 1s 709us/sample - loss: 0.0232 - accuracy: 1.0000\n",
      "Epoch 7/20\n",
      "2002/2002 [==============================] - 1s 747us/sample - loss: 0.0153 - accuracy: 1.0000\n",
      "Epoch 8/20\n",
      "2002/2002 [==============================] - 1s 722us/sample - loss: 0.0110 - accuracy: 1.0000\n",
      "Epoch 9/20\n",
      "2002/2002 [==============================] - 1s 694us/sample - loss: 0.0083 - accuracy: 1.0000\n",
      "Epoch 10/20\n",
      "2002/2002 [==============================] - 1s 694us/sample - loss: 0.0065 - accuracy: 1.0000\n",
      "Epoch 11/20\n",
      "2002/2002 [==============================] - 1s 703us/sample - loss: 0.0052 - accuracy: 1.0000\n",
      "Epoch 12/20\n",
      "2002/2002 [==============================] - 1s 707us/sample - loss: 0.0043 - accuracy: 1.0000\n",
      "Epoch 13/20\n",
      "2002/2002 [==============================] - 1s 705us/sample - loss: 0.0036 - accuracy: 1.0000\n",
      "Epoch 14/20\n",
      "2002/2002 [==============================] - 1s 699us/sample - loss: 0.0031 - accuracy: 1.0000\n",
      "Epoch 15/20\n",
      "2002/2002 [==============================] - 1s 699us/sample - loss: 0.0027 - accuracy: 1.0000\n",
      "Epoch 16/20\n",
      "2002/2002 [==============================] - 1s 704us/sample - loss: 0.0023 - accuracy: 1.0000\n",
      "Epoch 17/20\n",
      "2002/2002 [==============================] - 1s 700us/sample - loss: 0.0020 - accuracy: 1.0000\n",
      "Epoch 18/20\n",
      "2002/2002 [==============================] - 1s 732us/sample - loss: 0.0018 - accuracy: 1.0000\n",
      "Epoch 19/20\n",
      "2002/2002 [==============================] - 1s 733us/sample - loss: 0.0016 - accuracy: 1.0000\n",
      "Epoch 20/20\n",
      "2002/2002 [==============================] - 1s 713us/sample - loss: 0.0014 - accuracy: 1.0000\n"
     ]
    },
    {
     "data": {
      "text/plain": [
       "<tensorflow.python.keras.callbacks.History at 0xc8924c3c8>"
      ]
     },
     "execution_count": 22,
     "metadata": {},
     "output_type": "execute_result"
    }
   ],
   "source": [
    "model.fit(np.array(X_train), np.array(y_train), epochs=20)"
   ]
  },
  {
   "cell_type": "markdown",
   "metadata": {
    "_uuid": "43061a58c33a5d5b9a7667cf2dc07e776362cac9",
    "colab_type": "text",
    "id": "KZ-IXqRtdip6"
   },
   "source": [
    "\n",
    "## Evaluate the model\n",
    "Evaluation is easy. Just call `model.evaluate()`."
   ]
  },
  {
   "cell_type": "code",
   "execution_count": 25,
   "metadata": {
    "_uuid": "cbc23de6b6ff62f33a9174dd64a941097672f3be",
    "colab": {
     "autoexec": {
      "startup": false,
      "wait_interval": 0
     },
     "base_uri": "https://localhost:8080/",
     "height": 68
    },
    "colab_type": "code",
    "executionInfo": {
     "elapsed": 256,
     "status": "ok",
     "timestamp": 1529968989028,
     "user": {
      "displayName": "Yufeng Guo",
      "photoUrl": "//lh3.googleusercontent.com/-yh4ovY5HFlY/AAAAAAAAAAI/AAAAAAAAACk/ySd8O1k5o5s/s50-c-k-no/photo.jpg",
      "userId": "112030861868146149303"
     },
     "user_tz": 240
    },
    "id": "Rp7qGXOI7vZx",
    "outputId": "3f97957f-3961-4342-a76b-112069b139ee"
   },
   "outputs": [
    {
     "name": "stdout",
     "output_type": "stream",
     "text": [
      "223/1 [==================================================================================================================================================================================================================================================================================================================================================================================================================================================================================================================================================================================================================================================================================================================================================================================================================================================================================================================================================================================================================================================================================================================================================================================================================================================================================================================================================================================================================================================================================================================================================================================================================================================================================================================================================================================================================================================================================================================================================================================================================================================================================================================================================================================================================================================================================================================================================================================================================================================================================================================================================================================================================================================================================================================================================================================================================================================================================================================================================================================================================================================================================================================================================================================================================================================================================================================================================================================================================================================================================================================================================================================================================================================================================================================================================================================================================================================================================================================================================================================================================================================================================================================================================================================================================================================================================================================================================================================================================================================================================================================================================================================================================================================================================================================================================================================================================================================================================================================================================================================================================================================================================================================================================================================================================================================================================================================================================================================================================================================================================================================================================================================================================================================================================================================================================================================================================================================================================================================================================================================================================================================================================================================================================================================================================================================================================================================================================================================================================================================================================================================================================================================================================================================================================================================================================================================================================================================================================================================================================================] - 0s 690us/sample - loss: 0.1639 - accuracy: 0.9238\n",
      "Test loss: 0.20886469243152794\n",
      "Test accuracy: 0.9237668\n"
     ]
    }
   ],
   "source": [
    "# Evaluate the accuracy of our trained model\n",
    "score = model.evaluate(X_test, y_test,\n",
    "                       batch_size=10, verbose=1)\n",
    "print('Test loss:', score[0])\n",
    "print('Test accuracy:', score[1])"
   ]
  },
  {
   "cell_type": "markdown",
   "metadata": {
    "_uuid": "7f2b44f49bbcdaabad53a3fadb12a92722d65aaf",
    "colab_type": "text",
    "id": "28xNG3mVeFIT"
   },
   "source": [
    "## Hyperparameter tuning"
   ]
  },
  {
   "cell_type": "markdown",
   "metadata": {
    "_uuid": "5e57f531af533325c1184bd0bcf1ff6cf4edc4d0",
    "colab_type": "text",
    "id": "YxoYLyHzeHPu"
   },
   "source": [
    "This is a good time to go back and tweak some parameters such as `epoch`, `batch size`, `dropout ratio`, network structure, activation function, and others, to see if you can improve the accuracy.\n",
    "\n",
    "In this particular case, to make it more challenging, I recommend reducing the max words of the call to `keras.preprocessing.text.Tokenizer`. This will reduce the number of words for each input sample, thus making it more challenging to accurately predict the category. (Notice that not all hyperparameters are necessarily inside the model. This is one such example.)\n",
    "\n",
    "The default was up to 1000 words per article. See what happens when you reduce that number to 200 words, or 50 words, or even fewer. As the evaluation accuracy drops, the effects of your hyperparameter tuning will be more pronounced, with successful adjustments making meaningful improvements to the model performance.\n",
    "\n",
    "To make this process easier to manage, I've encapulated the model definition and training and evaluation calls into one function call. You can add additional parameters as needed."
   ]
  },
  {
   "cell_type": "markdown",
   "metadata": {
    "_uuid": "9e0aa1e7f4e713903b23dbf567c3d035511924e8",
    "colab_type": "text",
    "id": "7X5sF8ZtgFRY"
   },
   "source": [
    "###Hyperparameter Search\n",
    "\n",
    "You can also automate this process using for-loops and more sophiscated methods of deciding which combinations of hyperparameter values to try out.\n",
    "\n",
    "Exhaustive search is generally not the most elegant way, this is mostly just for illustrative purposes."
   ]
  },
  {
   "cell_type": "markdown",
   "metadata": {
    "_uuid": "5ebd9f0d1120bb2ac6a65b9239f84431bdc1b181",
    "colab_type": "text",
    "id": "5Kwg1HISdvbJ"
   },
   "source": [
    "## Make some predictions\n",
    "Take some samples from the test dataset and inspect some individual predictions, to ensure that things are sensible.\n"
   ]
  },
  {
   "cell_type": "markdown",
   "metadata": {
    "_uuid": "cffc52f2cf377c9e3b446e8b60c9f1616f5859df",
    "colab_type": "text",
    "id": "9fVPKqatd4wT"
   },
   "source": [
    "## (optional) Extra extra! Visualize the confusion matrix\n",
    "This can help identify which areas were a challenge to get right, if the model is performing poorly."
   ]
  },
  {
   "cell_type": "code",
   "execution_count": 30,
   "metadata": {
    "_uuid": "f0ac86d025cc57f48849d33f664bc6f355f196a2",
    "colab": {
     "autoexec": {
      "startup": false,
      "wait_interval": 0
     }
    },
    "colab_type": "code",
    "id": "5iwjnls-7vZ6"
   },
   "outputs": [],
   "source": [
    "text_labels = encoder.classes_ \n",
    "y_softmax = model.predict(X_test)\n",
    "\n",
    "y_test_1d = []\n",
    "y_pred_1d = []\n",
    "\n",
    "for i in range(len(y_test)):\n",
    "    probs = y_test[i]\n",
    "    index_arr = np.nonzero(probs)\n",
    "    one_hot_index = index_arr[0].item(0)\n",
    "    y_test_1d.append(one_hot_index)\n",
    "\n",
    "for i in range(0, len(y_softmax)):\n",
    "    probs = y_softmax[i]\n",
    "    predicted_index = np.argmax(probs)\n",
    "    y_pred_1d.append(predicted_index)"
   ]
  },
  {
   "cell_type": "code",
   "execution_count": 31,
   "metadata": {
    "_uuid": "a289402f4815e8bc322b12194c1b1b3acdd80931",
    "colab": {
     "autoexec": {
      "startup": false,
      "wait_interval": 0
     }
    },
    "colab_type": "code",
    "id": "7ljbbrdu7vZ9"
   },
   "outputs": [],
   "source": [
    "# This utility function is from the sklearn docs: http://scikit-learn.org/stable/auto_examples/model_selection/plot_confusion_matrix.html\n",
    "def plot_confusion_matrix(cm, classes,\n",
    "                          title='Confusion matrix',\n",
    "                          cmap=plt.cm.Blues):\n",
    "    \"\"\"\n",
    "    This function prints and plots the confusion matrix.\n",
    "    Normalization can be applied by setting `normalize=True`.\n",
    "    \"\"\"\n",
    "\n",
    "    cm = cm.astype('float') / cm.sum(axis=1)[:, np.newaxis]\n",
    "\n",
    "    plt.imshow(cm, interpolation='nearest', cmap=cmap)\n",
    "    plt.title(title, fontsize=30)\n",
    "    plt.colorbar()\n",
    "    tick_marks = np.arange(len(classes))\n",
    "    plt.xticks(tick_marks, classes, rotation=45, fontsize=22)\n",
    "    plt.yticks(tick_marks, classes, fontsize=22)\n",
    "\n",
    "    fmt = '.2f'\n",
    "    thresh = cm.max() / 2.\n",
    "    for i, j in itertools.product(range(cm.shape[0]), range(cm.shape[1])):\n",
    "        plt.text(j, i, format(cm[i, j], fmt),\n",
    "                 horizontalalignment=\"center\",\n",
    "                 color=\"white\" if cm[i, j] > thresh else \"black\")\n",
    "\n",
    "    plt.ylabel('True label', fontsize=25)\n",
    "    plt.xlabel('Predicted label', fontsize=25)"
   ]
  },
  {
   "cell_type": "code",
   "execution_count": 32,
   "metadata": {
    "_uuid": "9e0238c7efd8b90aa654f67c258c6513c99fc9ef",
    "colab": {
     "autoexec": {
      "startup": false,
      "wait_interval": 0
     },
     "base_uri": "https://localhost:8080/",
     "height": 1295
    },
    "colab_type": "code",
    "executionInfo": {
     "elapsed": 1000,
     "status": "ok",
     "timestamp": 1528444377842,
     "user": {
      "displayName": "Yufeng Guo",
      "photoUrl": "//lh3.googleusercontent.com/-yh4ovY5HFlY/AAAAAAAAAAI/AAAAAAAAACk/ySd8O1k5o5s/s50-c-k-no/photo.jpg",
      "userId": "112030861868146149303"
     },
     "user_tz": 240
    },
    "id": "53JHPfCB7vZ_",
    "outputId": "9a940bfd-04a2-4ed2-cd7a-9ae4d2521941"
   },
   "outputs": [
    {
     "data": {
      "image/png": "[encoded data removed]",
      "text/plain": [
       "<Figure size 1728x1440 with 2 Axes>"
      ]
     },
     "metadata": {
      "needs_background": "light"
     },
     "output_type": "display_data"
    }
   ],
   "source": [
    "cnf_matrix = confusion_matrix(y_test_1d, y_pred_1d)\n",
    "plt.figure(figsize=(24,20))\n",
    "plot_confusion_matrix(cnf_matrix, classes=text_labels, title=\"Confusion matrix\")\n",
    "plt.show()"
   ]
  },
  {
   "cell_type": "markdown",
   "metadata": {
    "_uuid": "6c286179093db65f3c0638a92bb5823f46544098",
    "colab": {
     "autoexec": {
      "startup": false,
      "wait_interval": 0
     }
    },
    "colab_type": "code",
    "collapsed": true,
    "id": "0H1KIsy77vaC"
   },
   "source": [
    "## precession Recall"
   ]
  },
  {
   "cell_type": "code",
   "execution_count": 33,
   "metadata": {},
   "outputs": [],
   "source": [
    "from sklearn import metrics"
   ]
  },
  {
   "cell_type": "code",
   "execution_count": 35,
   "metadata": {},
   "outputs": [
    {
     "name": "stdout",
     "output_type": "stream",
     "text": [
      "              precision    recall  f1-score   support\n",
      "\n",
      "           0    0.90476   0.82609   0.86364        46\n",
      "           1    0.95238   0.90909   0.93023        44\n",
      "           2    0.86000   0.91489   0.88660        47\n",
      "           3    0.97959   1.00000   0.98969        48\n",
      "           4    0.92500   0.97368   0.94872        38\n",
      "\n",
      "    accuracy                        0.92377       223\n",
      "   macro avg    0.92435   0.92475   0.92378       223\n",
      "weighted avg    0.92428   0.92377   0.92325       223\n",
      "\n"
     ]
    }
   ],
   "source": [
    "print(metrics.classification_report(y_test_1d, y_pred_1d, digits=5))"
   ]
  },
  {
   "cell_type": "code",
   "execution_count": null,
   "metadata": {},
   "outputs": [],
   "source": []
  }
 ],
 "metadata": {
  "colab": {
   "collapsed_sections": [],
   "default_view": {},
   "name": "Published BBC text BOW",
   "provenance": [
    {
     "file_id": "1IlP-4XDM1_5NRdR5g_6DbIT-YvdwKGvn",
     "timestamp": 1528444855450
    }
   ],
   "version": "0.3.2",
   "views": {}
  },
  "kernelspec": {
   "display_name": "Python 3",
   "language": "python",
   "name": "python3"
  },
  "language_info": {
   "codemirror_mode": {
    "name": "ipython",
    "version": 3
   },
   "file_extension": ".py",
   "mimetype": "text/x-python",
   "name": "python",
   "nbconvert_exporter": "python",
   "pygments_lexer": "ipython3",
   "version": "3.7.4"
  }
 },
 "nbformat": 4,
 "nbformat_minor": 1
}
